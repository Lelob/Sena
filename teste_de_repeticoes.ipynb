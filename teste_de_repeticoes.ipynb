{
 "cells": [
  {
   "cell_type": "code",
   "execution_count": null,
   "metadata": {},
   "outputs": [],
   "source": [
    "import pandas as pd\n",
    "from openpyxl import load_workbook\n",
    "import random\n",
    "from math import factorial\n",
    "from itertools import combinations"
   ]
  },
  {
   "cell_type": "code",
   "execution_count": null,
   "metadata": {},
   "outputs": [],
   "source": [
    "numeros_mais_frequentes = [] #Temporário\n",
    "# Carregar o arquivo existente\n",
    "path = 'Sena2.xlsx'\n",
    "book = load_workbook(path)\n",
    "# Carregar o arquivo .xlsx\n",
    "path = 'Sena2.xlsx'\n",
    "df = pd.read_excel(path, sheet_name='Sena')\n",
    "numeros = 6"
   ]
  },
  {
   "cell_type": "code",
   "execution_count": null,
   "metadata": {},
   "outputs": [],
   "source": [
    "def encontrar_numeros_mais_frequentes(lista):\n",
    "        teste = []\n",
    "        for i,v in enumerate(lista):\n",
    "                if len(teste) <= numeros:\n",
    "                        teste.append(lista[i][0])\n",
    "                elif lista[i][1] in teste:\n",
    "                        teste.append(lista[i][0])\n",
    "        print(teste)\n",
    "        return teste"
   ]
  },
  {
   "cell_type": "code",
   "execution_count": null,
   "metadata": {},
   "outputs": [],
   "source": [
    "# Função para calcular combinação (n choose k)\n",
    "def combinacao(algorismos, conjuntos):\n",
    "    possibilidades = list(combinations(algorismos, conjuntos))\n",
    "    return possibilidades"
   ]
  },
  {
   "cell_type": "code",
   "execution_count": null,
   "metadata": {},
   "outputs": [],
   "source": [
    "def combinações(lista_comb, jogos):\n",
    "    numeros_mais_frequentes = []\n",
    "    for i in range(0,462):\n",
    "        lista_aleatoria = random.sample(lista_comb,numeros)\n",
    "        if lista_aleatoria not in jogos:\n",
    "            numeros_mais_frequentes.append(lista_aleatoria)\n",
    "    return numeros_mais_frequentes"
   ]
  },
  {
   "cell_type": "code",
   "execution_count": null,
   "metadata": {},
   "outputs": [],
   "source": [
    "jogos = []\n",
    "numeros_mais_frequentes = []\n",
    "contagem = {}\n",
    "x = 0\n",
    "#teste = []\n",
    "# Chamar a função para cada linha do dataframe\n",
    "for i, row in df.iterrows():\n",
    "    dezenas = row.iloc[2:8].tolist()  # Supondo que as colunas com as dezenas estejam nas colunas 2 a 7\n",
    "    jogos.append(dezenas)\n",
    "    for numero in dezenas:\n",
    "        if numero not in contagem:\n",
    "            contagem[numero] = 1\n",
    "        else:\n",
    "            contagem[numero] += 1\n",
    "        contagem_final = sorted(contagem.items(),key=lambda x: (x[1], -x[0]), reverse=True)        \n",
    "        # É a partir daqui que eu preciso aplicar a análise de dados\n",
    "        #A lista teste irá representar os números com o maior número de contagem\n",
    "        teste = []\n",
    "        # O for irá percorrer a lista de contagem e separar a partir dos números que mais aparecem\n",
    "        for n,v in enumerate(contagem_final):\n",
    "            # Se len(teste) for menor que numeros que é a quantidade de números que estou apostando, então todos os 6 primeiros números serão incluídos na lista  teste\n",
    "            if len(teste) <= numeros:\n",
    "                teste.append(contagem_final[n][0])\n",
    "            # Quando os primeiros forem preenchidos e o número de repetição for igual ao menor da lista então ele será inserido também\n",
    "            elif contagem_final[n][1] in teste:\n",
    "                teste.append(contagem_final[n][0])\n",
    "    n_possibilidades = factorial(len(teste))/(factorial(numeros) * factorial(len(teste) - numeros))\n",
    "    todas_combinacoes = combinacao(teste, numeros)\n",
    "    print(jogos, teste, n_possibilidades, todas_combinacoes)\n",
    "\n",
    "df_contagem = pd.DataFrame(contagem_final, columns=['Dezena', 'Frequência'])\n",
    "#df_contagem.to_excel('Sena2.xlsx', index=False)\n",
    "# Vamos gerar os jogos seguintes para cada jogo da lista\n",
    "print(\"Números mais frequente:\", contagem_final)\n",
    "print(jogos)\n",
    "teste_combinação = encontrar_numeros_mais_frequentes(contagem_final)\n",
    "#print(teste_combinação)\n",
    "print(combinações(teste_combinação, jogos))"
   ]
  },
  {
   "cell_type": "code",
   "execution_count": null,
   "metadata": {},
   "outputs": [],
   "source": [
    "# Nome das colunas no excel\n",
    "nome_colunas = ['Dezena 1', 'Dezena 2', 'Dezena 3', 'Dezena 4','Dezena 5', 'Dezena 6']\n",
    "\n",
    "# Criar um DataFrame com os jogos gerados\n",
    "df_jogos = pd.DataFrame(combinações(teste_combinação, jogos), columns=nome_colunas)\n",
    "\n",
    "# Exportar o DataFrame para um arquivo Excel\n",
    "caminho_arquivo = 'jogos_gerados.xlsx'\n",
    "with pd.ExcelWriter(caminho_arquivo) as writer:\n",
    "    df_jogos.to_excel(writer, index=False)\n",
    "\n",
    "\n",
    "print(\"Jogos gerados exportados para o arquivo:\", caminho_arquivo)"
   ]
  }
 ],
 "metadata": {
  "kernelspec": {
   "display_name": "Python 3",
   "language": "python",
   "name": "python3"
  },
  "language_info": {
   "codemirror_mode": {
    "name": "ipython",
    "version": 3
   },
   "file_extension": ".py",
   "mimetype": "text/x-python",
   "name": "python",
   "nbconvert_exporter": "python",
   "pygments_lexer": "ipython3",
   "version": "3.11.3"
  },
  "orig_nbformat": 4
 },
 "nbformat": 4,
 "nbformat_minor": 2
}
